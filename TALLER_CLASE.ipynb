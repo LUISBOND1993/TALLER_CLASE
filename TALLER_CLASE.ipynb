{
 "cells": [
  {
   "cell_type": "markdown",
   "metadata": {},
   "source": [
    "INTEGRANTE: LUIS EDUARDO BONILLA\n",
    "\n",
    "LIBRERIAS A UTILIZAR Y CARGUE DE DATOS"
   ]
  },
  {
   "cell_type": "code",
   "execution_count": 3,
   "metadata": {},
   "outputs": [],
   "source": [
    "import pandas as pd\n",
    "import numpy as np\n",
    "import seaborn as sns\n",
    "from matplotlib import pyplot as plt\n",
    "df=pd.read_csv('D:/TADEO/Octavo Semestre/Principios_de_Modelado_&_Simulacion/TALLER_CLASE/clasificacion.txt',sep='\\t')\n"
   ]
  },
  {
   "cell_type": "markdown",
   "metadata": {},
   "source": [
    "LECTURA DE DATOS"
   ]
  },
  {
   "cell_type": "code",
   "execution_count": 5,
   "metadata": {},
   "outputs": [
    {
     "name": "stdout",
     "output_type": "stream",
     "text": [
      "<class 'pandas.core.frame.DataFrame'>\n",
      "RangeIndex: 179 entries, 0 to 178\n",
      "Data columns (total 15 columns):\n",
      " #   Column                             Non-Null Count  Dtype  \n",
      "---  ------                             --------------  -----  \n",
      " 0   ID Caso                            179 non-null    int64  \n",
      " 1   Clase_Vino                         179 non-null    int64  \n",
      " 2   Alcohol                            179 non-null    float64\n",
      " 3   Acido_Malico                       176 non-null    float64\n",
      " 4   Cenizas                            176 non-null    float64\n",
      " 5   Alcalinidad_Cenizas                179 non-null    float64\n",
      " 6   Magnesio                           178 non-null    float64\n",
      " 7   Fenoles_Totales                    178 non-null    float64\n",
      " 8   Flavanoides                        175 non-null    float64\n",
      " 9   Fenoles_No_Flavanoides             179 non-null    float64\n",
      " 10  Protoantocianinas                  179 non-null    float64\n",
      " 11  Intensidad_Color                   178 non-null    float64\n",
      " 12  Matiz                              179 non-null    float64\n",
      " 13  OD280_OD315_de_los_vinos_diluidos  179 non-null    float64\n",
      " 14  Prolina                            179 non-null    int64  \n",
      "dtypes: float64(12), int64(3)\n",
      "memory usage: 21.1 KB\n"
     ]
    }
   ],
   "source": [
    "df.head(100)\n",
    "df.info()"
   ]
  },
  {
   "cell_type": "markdown",
   "metadata": {},
   "source": [
    "ESTADISTICAS DESCRIPTIVAS"
   ]
  },
  {
   "cell_type": "code",
   "execution_count": 12,
   "metadata": {},
   "outputs": [
    {
     "name": "stdout",
     "output_type": "stream",
     "text": [
      "-------------------------------------------------\n",
      "CÁLCULO DE ESTADÍSTICAS PARA LA VARIABLE CENIZAS\n",
      "El máximo de la variable cenizas es igual a 3.23\n",
      "El mínimo de la variable cenizas es igual a 1.36\n",
      "La media de la variable cenizas es igual a 2.36\n",
      "La desviación estandar de la variable cenizas es igual a 0.27\n",
      "La varianza de la variable cenizas es igual a 0.07\n"
     ]
    }
   ],
   "source": [
    "print('-------------------------------------------------')\n",
    "print('CÁLCULO DE ESTADÍSTICAS PARA LA VARIABLE CENIZAS')\n",
    "print(f'El máximo de la variable cenizas es igual a {df.Cenizas.max()}')\n",
    "print(f'El mínimo de la variable cenizas es igual a {df.Cenizas.min()}')\n",
    "print(f'La media de la variable cenizas es igual a {round(df.Cenizas.mean(),2)}')\n",
    "print(f'La desviación estandar de la variable cenizas es igual a {round(df.Cenizas.std(),2)}')\n",
    "print(f'La varianza de la variable cenizas es igual a {round(df.Cenizas.var(),2)}')\n"
   ]
  },
  {
   "cell_type": "code",
   "execution_count": 15,
   "metadata": {},
   "outputs": [
    {
     "name": "stdout",
     "output_type": "stream",
     "text": [
      "-------------------------------------------------\n",
      "ESTADÍSTICAS RESUMIDAS\n"
     ]
    },
    {
     "data": {
      "text/html": [
       "<div>\n",
       "<style scoped>\n",
       "    .dataframe tbody tr th:only-of-type {\n",
       "        vertical-align: middle;\n",
       "    }\n",
       "\n",
       "    .dataframe tbody tr th {\n",
       "        vertical-align: top;\n",
       "    }\n",
       "\n",
       "    .dataframe thead th {\n",
       "        text-align: right;\n",
       "    }\n",
       "</style>\n",
       "<table border=\"1\" class=\"dataframe\">\n",
       "  <thead>\n",
       "    <tr style=\"text-align: right;\">\n",
       "      <th></th>\n",
       "      <th>ID Caso</th>\n",
       "      <th>Clase_Vino</th>\n",
       "      <th>Alcohol</th>\n",
       "      <th>Acido_Malico</th>\n",
       "      <th>Cenizas</th>\n",
       "      <th>Alcalinidad_Cenizas</th>\n",
       "      <th>Magnesio</th>\n",
       "      <th>Fenoles_Totales</th>\n",
       "      <th>Flavanoides</th>\n",
       "      <th>Fenoles_No_Flavanoides</th>\n",
       "      <th>Protoantocianinas</th>\n",
       "      <th>Intensidad_Color</th>\n",
       "      <th>Matiz</th>\n",
       "      <th>OD280_OD315_de_los_vinos_diluidos</th>\n",
       "      <th>Prolina</th>\n",
       "    </tr>\n",
       "  </thead>\n",
       "  <tbody>\n",
       "    <tr>\n",
       "      <th>count</th>\n",
       "      <td>179.000000</td>\n",
       "      <td>179.000000</td>\n",
       "      <td>179.000000</td>\n",
       "      <td>176.000000</td>\n",
       "      <td>176.000000</td>\n",
       "      <td>179.000000</td>\n",
       "      <td>178.000000</td>\n",
       "      <td>178.000000</td>\n",
       "      <td>175.000000</td>\n",
       "      <td>179.000000</td>\n",
       "      <td>179.000000</td>\n",
       "      <td>178.000000</td>\n",
       "      <td>179.000000</td>\n",
       "      <td>179.000000</td>\n",
       "      <td>179.000000</td>\n",
       "    </tr>\n",
       "    <tr>\n",
       "      <th>mean</th>\n",
       "      <td>90.000000</td>\n",
       "      <td>1.944134</td>\n",
       "      <td>13.006927</td>\n",
       "      <td>2.321534</td>\n",
       "      <td>2.364602</td>\n",
       "      <td>19.522905</td>\n",
       "      <td>99.629213</td>\n",
       "      <td>2.289663</td>\n",
       "      <td>2.001943</td>\n",
       "      <td>0.362961</td>\n",
       "      <td>1.589553</td>\n",
       "      <td>5.083933</td>\n",
       "      <td>0.955508</td>\n",
       "      <td>2.606034</td>\n",
       "      <td>745.849162</td>\n",
       "    </tr>\n",
       "    <tr>\n",
       "      <th>std</th>\n",
       "      <td>51.816986</td>\n",
       "      <td>0.776919</td>\n",
       "      <td>0.813932</td>\n",
       "      <td>1.099304</td>\n",
       "      <td>0.273399</td>\n",
       "      <td>3.351116</td>\n",
       "      <td>14.232438</td>\n",
       "      <td>0.623723</td>\n",
       "      <td>1.000411</td>\n",
       "      <td>0.124984</td>\n",
       "      <td>0.571033</td>\n",
       "      <td>2.338700</td>\n",
       "      <td>0.229403</td>\n",
       "      <td>0.712020</td>\n",
       "      <td>314.332206</td>\n",
       "    </tr>\n",
       "    <tr>\n",
       "      <th>min</th>\n",
       "      <td>1.000000</td>\n",
       "      <td>1.000000</td>\n",
       "      <td>11.030000</td>\n",
       "      <td>0.740000</td>\n",
       "      <td>1.360000</td>\n",
       "      <td>10.600000</td>\n",
       "      <td>70.000000</td>\n",
       "      <td>0.980000</td>\n",
       "      <td>0.340000</td>\n",
       "      <td>0.130000</td>\n",
       "      <td>0.410000</td>\n",
       "      <td>1.280000</td>\n",
       "      <td>0.480000</td>\n",
       "      <td>1.270000</td>\n",
       "      <td>278.000000</td>\n",
       "    </tr>\n",
       "    <tr>\n",
       "      <th>25%</th>\n",
       "      <td>45.500000</td>\n",
       "      <td>1.000000</td>\n",
       "      <td>12.365000</td>\n",
       "      <td>1.597500</td>\n",
       "      <td>2.210000</td>\n",
       "      <td>17.200000</td>\n",
       "      <td>88.000000</td>\n",
       "      <td>1.742500</td>\n",
       "      <td>1.095000</td>\n",
       "      <td>0.270000</td>\n",
       "      <td>1.250000</td>\n",
       "      <td>3.220000</td>\n",
       "      <td>0.780000</td>\n",
       "      <td>1.925000</td>\n",
       "      <td>501.000000</td>\n",
       "    </tr>\n",
       "    <tr>\n",
       "      <th>50%</th>\n",
       "      <td>90.000000</td>\n",
       "      <td>2.000000</td>\n",
       "      <td>13.050000</td>\n",
       "      <td>1.845000</td>\n",
       "      <td>2.360000</td>\n",
       "      <td>19.500000</td>\n",
       "      <td>98.000000</td>\n",
       "      <td>2.335000</td>\n",
       "      <td>2.090000</td>\n",
       "      <td>0.340000</td>\n",
       "      <td>1.550000</td>\n",
       "      <td>4.750000</td>\n",
       "      <td>0.960000</td>\n",
       "      <td>2.780000</td>\n",
       "      <td>672.000000</td>\n",
       "    </tr>\n",
       "    <tr>\n",
       "      <th>75%</th>\n",
       "      <td>134.500000</td>\n",
       "      <td>3.000000</td>\n",
       "      <td>13.685000</td>\n",
       "      <td>3.105000</td>\n",
       "      <td>2.552500</td>\n",
       "      <td>21.500000</td>\n",
       "      <td>107.000000</td>\n",
       "      <td>2.800000</td>\n",
       "      <td>2.790000</td>\n",
       "      <td>0.445000</td>\n",
       "      <td>1.950000</td>\n",
       "      <td>6.237500</td>\n",
       "      <td>1.120000</td>\n",
       "      <td>3.170000</td>\n",
       "      <td>985.000000</td>\n",
       "    </tr>\n",
       "    <tr>\n",
       "      <th>max</th>\n",
       "      <td>179.000000</td>\n",
       "      <td>3.000000</td>\n",
       "      <td>14.830000</td>\n",
       "      <td>5.650000</td>\n",
       "      <td>3.230000</td>\n",
       "      <td>30.000000</td>\n",
       "      <td>162.000000</td>\n",
       "      <td>3.880000</td>\n",
       "      <td>5.080000</td>\n",
       "      <td>0.660000</td>\n",
       "      <td>3.580000</td>\n",
       "      <td>13.000000</td>\n",
       "      <td>1.710000</td>\n",
       "      <td>4.000000</td>\n",
       "      <td>1680.000000</td>\n",
       "    </tr>\n",
       "  </tbody>\n",
       "</table>\n",
       "</div>"
      ],
      "text/plain": [
       "          ID Caso  Clase_Vino     Alcohol  Acido_Malico     Cenizas  \\\n",
       "count  179.000000  179.000000  179.000000    176.000000  176.000000   \n",
       "mean    90.000000    1.944134   13.006927      2.321534    2.364602   \n",
       "std     51.816986    0.776919    0.813932      1.099304    0.273399   \n",
       "min      1.000000    1.000000   11.030000      0.740000    1.360000   \n",
       "25%     45.500000    1.000000   12.365000      1.597500    2.210000   \n",
       "50%     90.000000    2.000000   13.050000      1.845000    2.360000   \n",
       "75%    134.500000    3.000000   13.685000      3.105000    2.552500   \n",
       "max    179.000000    3.000000   14.830000      5.650000    3.230000   \n",
       "\n",
       "       Alcalinidad_Cenizas    Magnesio  Fenoles_Totales  Flavanoides  \\\n",
       "count           179.000000  178.000000       178.000000   175.000000   \n",
       "mean             19.522905   99.629213         2.289663     2.001943   \n",
       "std               3.351116   14.232438         0.623723     1.000411   \n",
       "min              10.600000   70.000000         0.980000     0.340000   \n",
       "25%              17.200000   88.000000         1.742500     1.095000   \n",
       "50%              19.500000   98.000000         2.335000     2.090000   \n",
       "75%              21.500000  107.000000         2.800000     2.790000   \n",
       "max              30.000000  162.000000         3.880000     5.080000   \n",
       "\n",
       "       Fenoles_No_Flavanoides  Protoantocianinas  Intensidad_Color  \\\n",
       "count              179.000000         179.000000        178.000000   \n",
       "mean                 0.362961           1.589553          5.083933   \n",
       "std                  0.124984           0.571033          2.338700   \n",
       "min                  0.130000           0.410000          1.280000   \n",
       "25%                  0.270000           1.250000          3.220000   \n",
       "50%                  0.340000           1.550000          4.750000   \n",
       "75%                  0.445000           1.950000          6.237500   \n",
       "max                  0.660000           3.580000         13.000000   \n",
       "\n",
       "            Matiz  OD280_OD315_de_los_vinos_diluidos      Prolina  \n",
       "count  179.000000                         179.000000   179.000000  \n",
       "mean     0.955508                           2.606034   745.849162  \n",
       "std      0.229403                           0.712020   314.332206  \n",
       "min      0.480000                           1.270000   278.000000  \n",
       "25%      0.780000                           1.925000   501.000000  \n",
       "50%      0.960000                           2.780000   672.000000  \n",
       "75%      1.120000                           3.170000   985.000000  \n",
       "max      1.710000                           4.000000  1680.000000  "
      ]
     },
     "execution_count": 15,
     "metadata": {},
     "output_type": "execute_result"
    }
   ],
   "source": [
    "print('-------------------------------------------------')\n",
    "print('ESTADÍSTICAS RESUMIDAS')\n",
    "df.describe(include='all')"
   ]
  },
  {
   "cell_type": "code",
   "execution_count": 18,
   "metadata": {},
   "outputs": [
    {
     "data": {
      "text/plain": [
       "179"
      ]
     },
     "execution_count": 18,
     "metadata": {},
     "output_type": "execute_result"
    }
   ],
   "source": [
    "len(df)"
   ]
  },
  {
   "cell_type": "code",
   "execution_count": 20,
   "metadata": {},
   "outputs": [
    {
     "data": {
      "text/plain": [
       "(179, 15)"
      ]
     },
     "execution_count": 20,
     "metadata": {},
     "output_type": "execute_result"
    }
   ],
   "source": [
    "df.shape"
   ]
  },
  {
   "cell_type": "code",
   "execution_count": 21,
   "metadata": {},
   "outputs": [
    {
     "data": {
      "text/plain": [
       "<bound method NDFrame.tail of      ID Caso  Clase_Vino  Alcohol  Acido_Malico  Cenizas  Alcalinidad_Cenizas  \\\n",
       "0          1           1    14.23          1.71     2.43                 15.6   \n",
       "1          2           1    13.20          1.78     2.14                 11.2   \n",
       "2          3           1    13.16          2.36     2.67                 18.6   \n",
       "3          4           1    14.37          1.95     2.50                 16.8   \n",
       "4          5           1    13.24           NaN     2.87                 21.0   \n",
       "..       ...         ...      ...           ...      ...                  ...   \n",
       "174      175           3    13.40          3.91     2.48                 23.0   \n",
       "175      176           3    13.27          4.28     2.26                 20.0   \n",
       "176      177           3    13.17          2.59     2.37                 20.0   \n",
       "177      178           3    14.13          4.10     2.74                 24.5   \n",
       "178      179           3    14.13          4.10     2.74                 24.5   \n",
       "\n",
       "     Magnesio  Fenoles_Totales  Flavanoides  Fenoles_No_Flavanoides  \\\n",
       "0       127.0             2.80         3.06                    0.28   \n",
       "1       100.0             2.65         2.76                    0.26   \n",
       "2       101.0             2.80         3.24                    0.30   \n",
       "3       113.0             3.85         3.49                    0.24   \n",
       "4       118.0             2.80         2.69                    0.39   \n",
       "..        ...              ...          ...                     ...   \n",
       "174     102.0             1.80         0.75                    0.43   \n",
       "175     120.0             1.59         0.69                    0.43   \n",
       "176     120.0             1.65         0.68                    0.53   \n",
       "177      96.0             2.05         0.76                    0.56   \n",
       "178      96.0             2.05         0.76                    0.56   \n",
       "\n",
       "     Protoantocianinas  Intensidad_Color  Matiz  \\\n",
       "0                 2.29              5.64   1.04   \n",
       "1                 1.28              4.38   1.05   \n",
       "2                 2.81              5.68   1.03   \n",
       "3                 2.18              7.80   0.86   \n",
       "4                 1.82              4.32   1.04   \n",
       "..                 ...               ...    ...   \n",
       "174               1.41              7.30   0.70   \n",
       "175               1.35             10.20   0.59   \n",
       "176               1.46              9.30   0.60   \n",
       "177               1.35              9.20   0.61   \n",
       "178               1.35              9.20   0.61   \n",
       "\n",
       "     OD280_OD315_de_los_vinos_diluidos  Prolina  \n",
       "0                                 3.92     1065  \n",
       "1                                 3.40     1050  \n",
       "2                                 3.17     1185  \n",
       "3                                 3.45     1480  \n",
       "4                                 2.93      735  \n",
       "..                                 ...      ...  \n",
       "174                               1.56      750  \n",
       "175                               1.56      835  \n",
       "176                               1.62      840  \n",
       "177                               1.60      560  \n",
       "178                               1.60      560  \n",
       "\n",
       "[179 rows x 15 columns]>"
      ]
     },
     "execution_count": 21,
     "metadata": {},
     "output_type": "execute_result"
    }
   ],
   "source": [
    "df.tail"
   ]
  }
 ],
 "metadata": {
  "kernelspec": {
   "display_name": ".venv",
   "language": "python",
   "name": "python3"
  },
  "language_info": {
   "codemirror_mode": {
    "name": "ipython",
    "version": 3
   },
   "file_extension": ".py",
   "mimetype": "text/x-python",
   "name": "python",
   "nbconvert_exporter": "python",
   "pygments_lexer": "ipython3",
   "version": "3.12.5"
  }
 },
 "nbformat": 4,
 "nbformat_minor": 2
}
